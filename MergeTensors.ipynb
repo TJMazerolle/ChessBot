{
 "cells": [
  {
   "cell_type": "code",
   "execution_count": 24,
   "metadata": {},
   "outputs": [],
   "source": [
    "import os\n",
    "import numpy as np"
   ]
  },
  {
   "cell_type": "code",
   "execution_count": 25,
   "metadata": {},
   "outputs": [],
   "source": [
    "# directory = './BoardStatesAndScores/'\n",
    "# files = os.listdir(directory)\n",
    "\n",
    "# states_list = []\n",
    "# scores_list = []\n",
    "\n",
    "# with np.load(directory + files[679]) as data:\n",
    "#     state = data[\"states\"]  \n",
    "#     score = data['scores']\n",
    "\n",
    "# np.sum(np.isnan(score))"
   ]
  },
  {
   "cell_type": "code",
   "execution_count": 26,
   "metadata": {},
   "outputs": [
    {
     "name": "stdout",
     "output_type": "stream",
     "text": [
      "2136\n",
      "2136\n"
     ]
    }
   ],
   "source": [
    "directory = './BoardStatesAndScores/'\n",
    "files = os.listdir(directory)\n",
    "\n",
    "states_list = []\n",
    "scores_list = []\n",
    "\n",
    "for i, file in enumerate(files):\n",
    "    try:\n",
    "        with np.load(directory + file) as data:\n",
    "            state = data[\"states\"]  \n",
    "            score = data['scores']\n",
    "        states_list.append(state)\n",
    "        scores_list.append(score)\n",
    "    except:\n",
    "        continue\n",
    "\n",
    "print(len(states_list))  # Output: 2137\n",
    "print(len(scores_list))"
   ]
  },
  {
   "cell_type": "code",
   "execution_count": 27,
   "metadata": {},
   "outputs": [
    {
     "name": "stdout",
     "output_type": "stream",
     "text": [
      "(2136000, 14, 8, 8)\n",
      "(2136000,)\n"
     ]
    }
   ],
   "source": [
    "states = np.concatenate(states_list, axis=0)\n",
    "scores = np.concatenate(scores_list)\n",
    "\n",
    "print(states.shape)\n",
    "print(scores.shape)"
   ]
  },
  {
   "cell_type": "code",
   "execution_count": 28,
   "metadata": {},
   "outputs": [
    {
     "name": "stdout",
     "output_type": "stream",
     "text": [
      "(1914608, 14, 8, 8)\n",
      "(1914608,)\n"
     ]
    }
   ],
   "source": [
    "remove_indices = np.isnan(scores)\n",
    "states = states[~remove_indices]\n",
    "scores = scores[~remove_indices]\n",
    "\n",
    "print(states.shape)\n",
    "print(scores.shape)"
   ]
  },
  {
   "cell_type": "code",
   "execution_count": 29,
   "metadata": {},
   "outputs": [],
   "source": [
    "np.savez(f\"ChessStateData.npz\", states = states, scores = scores)"
   ]
  }
 ],
 "metadata": {
  "kernelspec": {
   "display_name": "ChessBot",
   "language": "python",
   "name": "python3"
  },
  "language_info": {
   "codemirror_mode": {
    "name": "ipython",
    "version": 3
   },
   "file_extension": ".py",
   "mimetype": "text/x-python",
   "name": "python",
   "nbconvert_exporter": "python",
   "pygments_lexer": "ipython3",
   "version": "3.11.9"
  }
 },
 "nbformat": 4,
 "nbformat_minor": 2
}
